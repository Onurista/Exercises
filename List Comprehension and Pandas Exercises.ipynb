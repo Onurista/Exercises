   {
+   "cell_type": "markdown",
+   "id": "26b8bbaf",
+   "metadata": {},
+   "source": [
+    "# Soru 1"
+   ]
+  },
+  {
    "cell_type": "code",
    "execution_count": 2,
    "id": "ad45ff4f",
    "metadata": {},
@@ -52,8 +60,16 @@
     "m = [x if (\"no\") in x else x + \"_FLAG\" for x in df.columns]\n"
    ]
   },
   {
+   "cell_type": "markdown",
+   "id": "087b5898",
+   "metadata": {},
+   "source": [
+    "# Soru 2"
+   ]
+  },
+  {
    "cell_type": "code",
    "execution_count": 3,
    "id": "40404fea",
    "metadata": {},
@@ -163,8 +179,16 @@
     "new_df.head()"
    ]
   },
   {
+   "cell_type": "markdown",
+   "id": "bd1acc05",
+   "metadata": {},
+   "source": [
+    "# Soru 3"
+   ]
+  },
+  {
    "cell_type": "code",
    "execution_count": 4,
    "id": "02adf54d",
    "metadata": {},
