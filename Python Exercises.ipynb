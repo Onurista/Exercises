{
 "cells": [
  {
   "cell_type": "markdown",
   "id": "40409034",
   "metadata": {},
   "source": [
    "# Python Exercises"
   ]
  },
  {
   "cell_type": "code",
   "execution_count": 1,
   "id": "be8cd54c",
   "metadata": {},
   "outputs": [],
   "source": [
    "import seaborn as sns\n",
    "import pandas as pd \n",
    "import numpy as np"
   ]
  },
  {
   "cell_type": "markdown",
   "id": "2e711be4",
   "metadata": {},
   "source": [
    "# Soru 2"
   ]
  },
  {
   "cell_type": "code",
   "execution_count": 2,
   "id": "c623b91f",
   "metadata": {},
   "outputs": [
    {
     "name": "stdout",
     "output_type": "stream",
     "text": [
      "['THE', 'GOAL', 'IS', 'TO', 'TURN', 'DATA', 'INTO', 'NFORMATIONAND', 'INFORMATION', 'INTO', 'INSIGHT']\n"
     ]
    }
   ],
   "source": [
    "# Virgül ve nokta yerine space koyunuz, kelime kelime ayırınız.\n",
    "text = \"The goal is to turn data into nformation,and information into insight\"\n",
    "\n",
    "print(text.upper().replace(\",\",\"\").replace(\".\",\"\").split())"
   ]
  },
  {
   "cell_type": "markdown",
   "id": "b0bc5870",
   "metadata": {},
   "source": [
    "# Soru 3"
   ]
  },
  {
   "cell_type": "code",
   "execution_count": 3,
   "id": "9d8843d0",
   "metadata": {},
   "outputs": [],
   "source": [
    "lst = [\"D\",\"A\",\"T\",\"A\",\"S\",\"C\",\"I\",\"E\",\"N\",\"C\",\"E\"]"
   ]
  },
  {
   "cell_type": "code",
   "execution_count": 4,
   "id": "c6a04500",
   "metadata": {},
   "outputs": [
    {
     "data": {
      "text/plain": [
       "11"
      ]
     },
     "execution_count": 4,
     "metadata": {},
     "output_type": "execute_result"
    }
   ],
   "source": [
    "# Adım 1: Verilen listenin eleman sayısına bakın.\n",
    "q1 = len(lst)\n",
    "q1"
   ]
  },
  {
   "cell_type": "code",
   "execution_count": 5,
   "id": "72d73090",
   "metadata": {},
   "outputs": [
    {
     "data": {
      "text/plain": [
       "['D', 'E']"
      ]
     },
     "execution_count": 5,
     "metadata": {},
     "output_type": "execute_result"
    }
   ],
   "source": [
    "# Adım 2: Sıfırıncı ve onuncu index'teki elemanları çağırın.\n",
    "q2 = [lst[0],lst[10]]\n",
    "q2"
   ]
  },
  {
   "cell_type": "code",
   "execution_count": 6,
   "id": "4418b9ef",
   "metadata": {},
   "outputs": [
    {
     "data": {
      "text/plain": [
       "['D', 'A', 'T', 'A']"
      ]
     },
     "execution_count": 6,
     "metadata": {},
     "output_type": "execute_result"
    }
   ],
   "source": [
    "# Adım 3: Verilen liste üzerinden [\"D\",\"A\",\"T\",\"A\"] listesi oluşturun.\n",
    "q3 = lst[:4]\n",
    "q3"
   ]
  },
  {
   "cell_type": "code",
   "execution_count": 7,
   "id": "7f9d6fb1",
   "metadata": {},
   "outputs": [
    {
     "name": "stdout",
     "output_type": "stream",
     "text": [
      "['D', 'A', 'T', 'A', 'S', 'C', 'I', 'E', 'C', 'E']\n"
     ]
    }
   ],
   "source": [
    "# Adım 4: Sekizinci index'teki elemanı silin.\n",
    "q4 = lst.pop(8)\n",
    "print(lst)"
   ]
  },
  {
   "cell_type": "code",
   "execution_count": 8,
   "id": "08a91256",
   "metadata": {},
   "outputs": [
    {
     "name": "stdout",
     "output_type": "stream",
     "text": [
      "['D', 'A', 'T', 'A', 'S', 'C', 'I', 'E', 'C', 'E', 'S']\n"
     ]
    }
   ],
   "source": [
    "# Adım 5: Yeni bir eleman ekleyin.\n",
    "q5 = lst.append(\"S\")\n",
    "print(lst)"
   ]
  },
  {
   "cell_type": "code",
   "execution_count": 9,
   "id": "322a0f8e",
   "metadata": {},
   "outputs": [
    {
     "name": "stdout",
     "output_type": "stream",
     "text": [
      "['D', 'A', 'T', 'A', 'S', 'C', 'I', 'E', 'N', 'C', 'E', 'S']\n"
     ]
    }
   ],
   "source": [
    "# Adım 6: Sekizinci index'e  \"N\" elemanını tekrar ekleyin.\n",
    "q6 = lst.insert(8,\"N\")\n",
    "print(lst)"
   ]
  },
  {
   "cell_type": "markdown",
   "id": "ffbae0e0",
   "metadata": {},
   "source": [
    "# Soru 4"
   ]
  },
  {
   "cell_type": "code",
   "execution_count": 10,
   "id": "1d225e0a",
   "metadata": {},
   "outputs": [],
   "source": [
    "dict = {'Christian': [\"America\",18],\n",
    "        'Daisy':[\"England\",12],\n",
    "        'Antonio':[\"Spain\",22],\n",
    "        'Dante':[\"Italy\",25]}"
   ]
  },
  {
   "cell_type": "code",
   "execution_count": 11,
   "id": "49da2d4a",
   "metadata": {},
   "outputs": [
    {
     "data": {
      "text/plain": [
       "dict_keys(['Christian', 'Daisy', 'Antonio', 'Dante'])"
      ]
     },
     "execution_count": 11,
     "metadata": {},
     "output_type": "execute_result"
    }
   ],
   "source": [
    "# Adım 1: Key değerlerine erişiniz.\n",
    "dict.keys()"
   ]
  },
  {
   "cell_type": "code",
   "execution_count": 12,
   "id": "3c42144b",
   "metadata": {},
   "outputs": [
    {
     "data": {
      "text/plain": [
       "dict_values([['America', 18], ['England', 12], ['Spain', 22], ['Italy', 25]])"
      ]
     },
     "execution_count": 12,
     "metadata": {},
     "output_type": "execute_result"
    }
   ],
   "source": [
    "# Adım 2: Value'lara erişiniz.\n",
    "dict.values()"
   ]
  },
  {
   "cell_type": "code",
   "execution_count": 13,
   "id": "27638cce",
   "metadata": {},
   "outputs": [
    {
     "data": {
      "text/plain": [
       "{'Christian': ['America', 18],\n",
       " 'Daisy': ['England', 13],\n",
       " 'Antonio': ['Spain', 22],\n",
       " 'Dante': ['Italy', 25]}"
      ]
     },
     "execution_count": 13,
     "metadata": {},
     "output_type": "execute_result"
    }
   ],
   "source": [
    "# Adım 3: Daisy key'ine ait 12 değerini 13 olarak güncelleyiniz.\n",
    "dict[\"Daisy\"][1] = 13\n",
    "dict"
   ]
  },
  {
   "cell_type": "code",
   "execution_count": 14,
   "id": "2cc066ec",
   "metadata": {},
   "outputs": [
    {
     "data": {
      "text/plain": [
       "{'Christian': ['America', 18],\n",
       " 'Daisy': ['England', 13],\n",
       " 'Antonio': ['Spain', 22],\n",
       " 'Dante': ['Italy', 25],\n",
       " 'Ahmet': ['Turkey', 24]}"
      ]
     },
     "execution_count": 14,
     "metadata": {},
     "output_type": "execute_result"
    }
   ],
   "source": [
    "# Adım 4: Key değeri Ahmet value değeri [Turkey,24] olan yeni bir değer ekleyiniz.\n",
    "dict[\"Ahmet\"] = [\"Turkey\",24]\n",
    "dict"
   ]
  },
  {
   "cell_type": "code",
   "execution_count": 15,
   "id": "ef9c482e",
   "metadata": {},
   "outputs": [
    {
     "data": {
      "text/plain": [
       "{'Christian': ['America', 18],\n",
       " 'Daisy': ['England', 13],\n",
       " 'Dante': ['Italy', 25],\n",
       " 'Ahmet': ['Turkey', 24]}"
      ]
     },
     "execution_count": 15,
     "metadata": {},
     "output_type": "execute_result"
    }
   ],
   "source": [
    "# Adım 5: Antonio'yu dictionary'den siliniz.\n",
    "dict.pop(\"Antonio\")\n",
    "dict"
   ]
  },
  {
   "cell_type": "markdown",
   "id": "78c4d20f",
   "metadata": {},
   "source": [
    "# Soru 5"
   ]
  },
  {
   "cell_type": "code",
   "execution_count": 16,
   "id": "c43a3c2a",
   "metadata": {},
   "outputs": [
    {
     "data": {
      "text/plain": [
       "([2, 18, 22], [13, 93])"
      ]
     },
     "execution_count": 16,
     "metadata": {},
     "output_type": "execute_result"
    }
   ],
   "source": [
    "# Arguman olarak bir liste alan, listenin içerisindeki tek ve çift sayıları ayrı listelere atıyan \n",
    "# ve bu listeleri return eden fonskiyon yazınız.\n",
    "\n",
    "l = [2,13,18,93,22]\n",
    "\n",
    "\n",
    "def func(x):\n",
    "    \n",
    "    cift = []\n",
    "    tek = []\n",
    "    \n",
    "    for i, j in enumerate(x):\n",
    "        if i%2 == 0:\n",
    "            cift.append(j)\n",
    "        else:\n",
    "            tek.append(j)\n",
    "\n",
    "    return cift, tek\n",
    "\n",
    "func(l)"
   ]
  },
  {
   "cell_type": "markdown",
   "id": "4b26d365",
   "metadata": {},
   "source": [
    "# Soru 6"
   ]
  },
  {
   "cell_type": "code",
   "execution_count": 17,
   "id": "1d9e518e",
   "metadata": {},
   "outputs": [
    {
     "name": "stdout",
     "output_type": "stream",
     "text": [
      "Mühendislik Fakültesi 1. öğrenci: Ali\n",
      "Mühendislik Fakültesi 2. öğrenci: Veli\n",
      "Mühendislik Fakültesi 3. öğrenci: Ayşe\n",
      "Tıp Fakültesi 1. öğrenci: Talat\n",
      "Tıp Fakültesi 2. öğrenci: Zeynep\n",
      "Tıp Fakültesi 3. öğrenci: Ece\n"
     ]
    }
   ],
   "source": [
    "# GÖREV 6: Aşağıda verilen listede mühendislik ve tıp fakülterinde dereceye giren öğrencilerin isimleri bulunmaktadır.\n",
    "# Sırasıyla ilk üç öğrenci mühendislik fakültesinin başarı sırasını temsil ederken \n",
    "# son üç öğrenci de tıp fakültesi öğrenci sırasına aittir.\n",
    "# Enumarate kullanarak öğrenci derecelerini fakülte özelinde yazdırınız.\n",
    "\n",
    "ogrenciler = [\"Ali\",\"Veli\",\"Ayşe\",\"Talat\",\"Zeynep\",\"Ece\"]\n",
    "\n",
    "for i,j in enumerate(ogrenciler):\n",
    "    if i<3:\n",
    "        print(\"Mühendislik Fakültesi {}. öğrenci: {}\".format(i+1,j))\n",
    "    else:\n",
    "        print(\"Tıp Fakültesi {}. öğrenci: {}\".format(i-2,j))\n",
    "\n"
   ]
  },
  {
   "cell_type": "markdown",
   "id": "eefa485c",
   "metadata": {},
   "source": [
    "# Soru 7"
   ]
  },
  {
   "cell_type": "code",
   "execution_count": 18,
   "id": "6f4d0e1c",
   "metadata": {},
   "outputs": [
    {
     "name": "stdout",
     "output_type": "stream",
     "text": [
      "Kredisi 3 olan CMP1005 kodlu dersin kontenjanı 30 kişidir.\n",
      "Kredisi 4 olan PSY1001 kodlu dersin kontenjanı 75 kişidir.\n",
      "Kredisi 2 olan HUK1005 kodlu dersin kontenjanı 150 kişidir.\n",
      "Kredisi 4 olan SEN2204 kodlu dersin kontenjanı 25 kişidir.\n"
     ]
    }
   ],
   "source": [
    "# Aşağıda 3 adet liste verilmiştir. Listelerde sırası ile bir dersin kodu, kredisi ve kontenjan \n",
    "# bilgileri yer almaktadır. Zip kullanarak ders bilgilerini bastırınız.\n",
    "\n",
    "ders_kodu = [\"CMP1005\",\"PSY1001\",\"HUK1005\",\"SEN2204\"]\n",
    "kredi = [3,4,2,4]\n",
    "kontenjan = [30,75,150,25]\n",
    "\n",
    "for i,j,k in zip(ders_kodu,kredi,kontenjan):\n",
    "    print(\"Kredisi {} olan {} kodlu dersin kontenjanı {} kişidir.\".format(j,i,k))"
   ]
  },
  {
   "cell_type": "markdown",
   "id": "ac6b6c75",
   "metadata": {},
   "source": [
    "# Soru 8"
   ]
  },
  {
   "cell_type": "code",
   "execution_count": 19,
   "id": "c5fcea47",
   "metadata": {},
   "outputs": [
    {
     "name": "stdout",
     "output_type": "stream",
     "text": [
      "{'qcut', 'function', 'miuul', 'lambda'}\n"
     ]
    }
   ],
   "source": [
    "# Aşağıda 2 adet set verilmiştir.\n",
    "# Sizden istenilen eğer 1. küme 2. kümeyi kapsiyor ise ortak elemanlarını \n",
    "# eğer kapsamıyor ise 2. kümenin 1. kümeden farkını yazdıracak fonksiyonu tanımlamanız beklenmektedir.\n",
    "\n",
    "kume1 = set([\"data\", \"python\"])\n",
    "kume2 = set([\"data\", \"function\", \"qcut\", \"lambda\", \"python\", \"miuul\"])\n",
    "\n",
    "if kume1.issuperset(kume2):\n",
    "    print(kume1.intersection(kume2))\n",
    "else:\n",
    "    print(kume2.difference(kume1))"
   ]
  },
  {
   "cell_type": "markdown",
   "id": "553c3350",
   "metadata": {},
   "source": [
    "# Soru 9"
   ]
  },
  {
   "cell_type": "code",
   "execution_count": 20,
   "id": "47057151",
   "metadata": {},
   "outputs": [
    {
     "data": {
      "text/plain": [
       "'Hi mY NaMe iS OnUr aNd i aM LeArNiNg pYtHoN'"
      ]
     },
     "execution_count": 20,
     "metadata": {},
     "output_type": "execute_result"
    }
   ],
   "source": [
    "# çift indexler büyük, tek indexler küçük\n",
    "x = \"hi my name is Onur and I am learning Python\"\n",
    "\n",
    "def func(x):\n",
    "\n",
    "    after_x = \"\"\n",
    "    for i, j in enumerate(x):\n",
    "        if i % 2 ==0:\n",
    "            after_x += j.upper()\n",
    "        else:\n",
    "            after_x += j.lower()\n",
    "    return after_x\n",
    "\n",
    "func(x)\n"
   ]
  }
 ],
 "metadata": {
  "kernelspec": {
   "display_name": "Python 3 (ipykernel)",
   "language": "python",
   "name": "python3"
  },
  "language_info": {
   "codemirror_mode": {
    "name": "ipython",
    "version": 3
   },
   "file_extension": ".py",
   "mimetype": "text/x-python",
   "name": "python",
   "nbconvert_exporter": "python",
   "pygments_lexer": "ipython3",
   "version": "3.9.12"
  }
 },
 "nbformat": 4,
 "nbformat_minor": 5
}
